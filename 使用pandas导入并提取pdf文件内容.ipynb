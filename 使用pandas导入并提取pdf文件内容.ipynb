{
 "cells": [
  {
   "cell_type": "code",
   "execution_count": 2,
   "id": "e5235cea-6c80-43d0-97be-c351b3daec15",
   "metadata": {},
   "outputs": [],
   "source": [
    "#import the loan contract, convert the front page into text\n",
    "from pdfminer.pdfparser import PDFParser\n",
    "from pdfminer.layout import LAParams\n",
    "from pdfminer.pdfdocument import PDFDocument\n",
    "from pdfminer.pdfpage import PDFPage\n",
    "from pdfminer.pdfpage import PDFTextExtractionNotAllowed\n",
    "from pdfminer.pdfinterp import PDFResourceManager\n",
    "from pdfminer.pdfinterp import PDFPageInterpreter\n",
    "from pdfminer.pdfdevice import PDFDevice\n",
    "from pdfminer.converter import PDFPageAggregator\n",
    "from pdfminer.layout import LTTextBoxHorizontal\n",
    "from io import StringIO, BytesIO\n",
    "\n",
    "path = 'C:\\\\Users\\\\yzx\\\\Desktop\\\\ACT3321\\\\hw\\\\Loan_contract.pdf'\n",
    "document = open(path, 'rb')\n",
    "\n",
    "#initializing pdfminer\n",
    "rsrcmgr = PDFResourceManager()\n",
    "laparams = LAParams()\n",
    "device = PDFPageAggregator(rsrcmgr, laparams=laparams)\n",
    "interpreter = PDFPageInterpreter(rsrcmgr, device)\n",
    "page_count=0\n",
    "\n",
    "#get text from page\n",
    "txt=''\n",
    "for page in PDFPage.get_pages(document,  pagenos=(0,0)):\n",
    "    page_count=page_count+1\n",
    "    interpreter.process_page(page)\n",
    "    layout = device.get_result()\n",
    "    for x in layout:\n",
    "        if (isinstance(x, LTTextBoxHorizontal)):\n",
    "            results = x.get_text()\n",
    "            #print(results)\n",
    "            txt=txt+' '+results\n",
    "import re"
   ]
  },
  {
   "cell_type": "code",
   "execution_count": 3,
   "id": "03ccac30-5903-47d1-ba6c-aa68a2cd5f93",
   "metadata": {},
   "outputs": [
    {
     "data": {
      "text/plain": [
       "' EX-10.1 2 d563955dex101.htm EX-10.1\\n Exhibit 10.1\\n Execution Version\\n $1,100,000,000\\n CREDIT AGREEMENT\\n dated as of\\n July 2, 2013\\n among\\n SERVICE CORPORATION INTERNATIONAL,\\n as Borrower,\\n The Lenders Party Hereto,\\n JPMORGAN CHASE BANK, N.A.,\\n as Administrative Agent,\\n    \\n  \\n    \\n BANK OF AMERICA, N.A.,\\n WELLS FARGO BANK, NATIONAL ASSOCIATION\\n SUNTRUST BANK,\\n as Co-Syndication Agents\\n BBVA COMPASS\\n THE BANK OF NOVA SCOTIA,\\n as Co-Documentation Agents\\n and\\n and\\n and\\n  \\n and\\n MERRILL LYNCH, PIERCE, FENNER & SMITH INCORPORATED\\n J.P. MORGAN SECURITIES LLC,\\n WELLS FARGO SECURITIES, LLC,\\n as Joint Bookrunners and Joint Lead Arrangers\\n Andrews Kurth LLP\\nCounsel to the Administrative Agent\\n'"
      ]
     },
     "execution_count": 3,
     "metadata": {},
     "output_type": "execute_result"
    }
   ],
   "source": [
    "txt"
   ]
  },
  {
   "cell_type": "code",
   "execution_count": 12,
   "id": "863ea473-f490-4943-a62a-7a74f896a92f",
   "metadata": {},
   "outputs": [
    {
     "name": "stdout",
     "output_type": "stream",
     "text": [
      "Administrative agent:  JPMORGAN CHASE BANK\n",
      "Borrower:  SERVICE CORPORATION INTERNATIONAL\n",
      "Date:  July 2, 2013\n",
      "Loan amount:  $1,100,000,000\n"
     ]
    }
   ],
   "source": [
    "# Administrative agent\n",
    "lead_bank=re.findall('\\n\\s.+\\n as Administrative Agent',txt)\n",
    "lead_bank=lead_bank[0].split('\\n')[1]\n",
    "lead_bank=''.join(re.findall(r\"[\\w\\s]\", lead_bank))\n",
    "print(\"Administrative agent:\",lead_bank[:-3])\n",
    "\n",
    "# Borrower\n",
    "borrower=re.findall('\\n\\s.+\\n as Borrower',txt)\n",
    "borrower=borrower[0].split('\\n')[1]\n",
    "borrower=''.join(re.findall(r\"[\\w\\s]\", borrower))\n",
    "print(\"Borrower:\",borrower)\n",
    "\n",
    "#Loan date\n",
    "date=re.findall('\\n dated as of\\n\\s.+',txt)\n",
    "date\n",
    "print(\"Date:\",date[0].split('\\n')[2])\n",
    "\n",
    "#Loan amount\n",
    "loan_amount=re.findall('\\n\\s.+\\n CREDIT AGREEMENT',txt)\n",
    "loan_amount\n",
    "print(\"Loan amount:\",loan_amount[0].split('\\n')[1])"
   ]
  },
  {
   "cell_type": "code",
   "execution_count": 70,
   "id": "98d0fd84-800a-478f-aad4-265ab26842a2",
   "metadata": {},
   "outputs": [],
   "source": [
    "# read the entire document\n",
    "\n",
    "path = 'C:\\\\Users\\\\yzx\\\\Desktop\\\\ACT3321\\\\hw\\\\Loan_contract.pdf'\n",
    "document = open(path, 'rb')\n",
    "whole_txt=''\n",
    "\n",
    "#initialization\n",
    "rsrcmgr = PDFResourceManager()\n",
    "laparams = LAParams()\n",
    "device = PDFPageAggregator(rsrcmgr, laparams=laparams)\n",
    "interpreter = PDFPageInterpreter(rsrcmgr, device)\n",
    "page_count=0\n",
    "f= open('whole_contract.txt', 'w', encoding='utf-8-sig')\n",
    "for page in PDFPage.get_pages(document):\n",
    "    page_count=page_count+1\n",
    "    interpreter.process_page(page)\n",
    "    layout = device.get_result()\n",
    "    for x in layout:\n",
    "        if (isinstance(x, LTTextBoxHorizontal)):\n",
    "            results = x.get_text()\n",
    "            #print(results)\n",
    "            whole_txt=whole_txt+' '+results\n",
    "            #export to a txt\n",
    "            f.write(results)\n",
    "f.close()"
   ]
  },
  {
   "cell_type": "code",
   "execution_count": 79,
   "id": "a0621944-173e-4084-a687-9f555cebf7c4",
   "metadata": {},
   "outputs": [
    {
     "name": "stdout",
     "output_type": "stream",
     "text": [
      "Pg.number: 182\n",
      "Word count: 63365\n"
     ]
    }
   ],
   "source": [
    "# number of pages\n",
    "print(\"Pg.number:\",page_count)\n",
    "# number of words\n",
    "print(\"Word count:\",len(whole_txt.split()))"
   ]
  },
  {
   "cell_type": "code",
   "execution_count": null,
   "id": "4c48466d-108c-4486-86f7-cfd17bf93ba9",
   "metadata": {},
   "outputs": [],
   "source": []
  }
 ],
 "metadata": {
  "kernelspec": {
   "display_name": "Python 3 (ipykernel)",
   "language": "python",
   "name": "python3"
  },
  "language_info": {
   "codemirror_mode": {
    "name": "ipython",
    "version": 3
   },
   "file_extension": ".py",
   "mimetype": "text/x-python",
   "name": "python",
   "nbconvert_exporter": "python",
   "pygments_lexer": "ipython3",
   "version": "3.9.6"
  }
 },
 "nbformat": 4,
 "nbformat_minor": 5
}
