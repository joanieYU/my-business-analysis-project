{
 "cells": [
  {
   "cell_type": "code",
   "execution_count": 12,
   "id": "193fd49f-2629-4931-bdee-cfd831e04cfc",
   "metadata": {},
   "outputs": [],
   "source": [
    "#1.1. Create a string of the sentence above with var name text.\n",
    "text = \"Apple today announced financial results for its fiscal 2022 third quarter ended June 25, 2022. The Company posted a June quarter revenue record of $83.0 billion, up 2 percent year over year, and quarterly earnings per diluted share of $1.20.\""
   ]
  },
  {
   "cell_type": "code",
   "execution_count": 54,
   "id": "c6a9c1b3-6e9e-43d9-a81c-0408bcc67808",
   "metadata": {},
   "outputs": [
    {
     "name": "stdout",
     "output_type": "stream",
     "text": [
      "['2022', '25', '2022', '83.0', '2', '1.20']\n"
     ]
    }
   ],
   "source": [
    "#1.2. Find all numbers. \n",
    "import re\n",
    "print(re.findall(r'[1-9]+\\.?[0-9]*', text))"
   ]
  },
  {
   "cell_type": "code",
   "execution_count": 55,
   "id": "8b273818-d534-4b7b-9a98-374b23a9c2e8",
   "metadata": {},
   "outputs": [
    {
     "name": "stdout",
     "output_type": "stream",
     "text": [
      "['$83.0', '$1.20']\n"
     ]
    }
   ],
   "source": [
    "#1.3. Find all dollar amounts. \n",
    "import re\n",
    "print(re.findall(r'\\$[1-9]+\\.?[0-9]*', text))"
   ]
  },
  {
   "cell_type": "code",
   "execution_count": 60,
   "id": "10093168-198d-4b8b-85ae-d817f63a6d66",
   "metadata": {},
   "outputs": [
    {
     "name": "stdout",
     "output_type": "stream",
     "text": [
      "['June 25, 2022']\n"
     ]
    }
   ],
   "source": [
    "#1.4. Find all dates (June 25, 2022)\n",
    "import re\n",
    "date=re.findall(r'(?:January|February|March|April|May|June|July|August|September|October|November|December)\\s\\d{1,2},\\s{0,1}\\d{4}',text)\n",
    "print(date)"
   ]
  },
  {
   "cell_type": "code",
   "execution_count": 78,
   "id": "c4b76e52-8bd8-49d2-9d17-159c37be3aa2",
   "metadata": {},
   "outputs": [
    {
     "name": "stdout",
     "output_type": "stream",
     "text": [
      "Apple today announced financial results for its fiscal 2022 third quarter ended June 25 2022 The Company posted a June quarter revenue record of 830 billion up 2 percent year over year and quarterly earnings per diluted share of 120\n"
     ]
    }
   ],
   "source": [
    "#1.5. Removing all punctuations ( . $, etc.).\n",
    "import re\n",
    "text2 = ''.join(re.findall(r\"[a-zA-Z0-9\\s]\", text))\n",
    "print(text2)"
   ]
  },
  {
   "cell_type": "code",
   "execution_count": 80,
   "id": "1a2c3786-0d90-4bc0-8a07-ed6bcbffceee",
   "metadata": {},
   "outputs": [
    {
     "name": "stdout",
     "output_type": "stream",
     "text": [
      "Apple today announced financial results for its fiscal  third quarter ended June   The Company posted a June quarter revenue record of  billion up  percent year over year and quarterly earnings per diluted share of \n"
     ]
    }
   ],
   "source": [
    "#1.6. Remove all numbers.\n",
    "import re\n",
    "text3 = ''.join(re.findall(r\"[a-zA-Z\\W\\s]\", text2))\n",
    "print(text3)"
   ]
  },
  {
   "cell_type": "code",
   "execution_count": 83,
   "id": "e50e0f60-6173-4916-a3d6-9ac2331f7a13",
   "metadata": {},
   "outputs": [
    {
     "name": "stdout",
     "output_type": "stream",
     "text": [
      "34\n"
     ]
    }
   ],
   "source": [
    "#1.7. Count the number of words in the string after finish 1.5 and 1.6\n",
    "import re\n",
    "print(len(re.findall(r'\\b\\w+\\b',text3)))"
   ]
  }
 ],
 "metadata": {
  "kernelspec": {
   "display_name": "Python 3 (ipykernel)",
   "language": "python",
   "name": "python3"
  },
  "language_info": {
   "codemirror_mode": {
    "name": "ipython",
    "version": 3
   },
   "file_extension": ".py",
   "mimetype": "text/x-python",
   "name": "python",
   "nbconvert_exporter": "python",
   "pygments_lexer": "ipython3",
   "version": "3.9.6"
  }
 },
 "nbformat": 4,
 "nbformat_minor": 5
}
