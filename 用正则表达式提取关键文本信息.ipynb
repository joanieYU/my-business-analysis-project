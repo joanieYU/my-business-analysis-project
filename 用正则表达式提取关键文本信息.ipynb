{
 "cells": [
  {
   "cell_type": "markdown",
   "id": "4080aff2-576d-4482-9ea5-9c4fc0f79321",
   "metadata": {},
   "source": [
    "1. 创建一个句子，type为string"
   ]
  },
  {
   "cell_type": "code",
   "execution_count": 12,
   "id": "193fd49f-2629-4931-bdee-cfd831e04cfc",
   "metadata": {},
   "outputs": [],
   "source": [
    "#1.1. Create a string of the sentence above with var name text.\n",
    "text = \"Apple today announced financial results for its fiscal 2022 third quarter ended June 25, 2022. The Company posted a June quarter revenue record of $83.0 billion, up 2 percent year over year, and quarterly earnings per diluted share of $1.20.\""
   ]
  },
  {
   "cell_type": "markdown",
   "id": "c70ee251-439e-45b7-a2ac-cf45575bff7e",
   "metadata": {},
   "source": [
    "2. 提取出句子中所有的数字"
   ]
  },
  {
   "cell_type": "code",
   "execution_count": 54,
   "id": "c6a9c1b3-6e9e-43d9-a81c-0408bcc67808",
   "metadata": {},
   "outputs": [
    {
     "name": "stdout",
     "output_type": "stream",
     "text": [
      "['2022', '25', '2022', '83.0', '2', '1.20']\n"
     ]
    }
   ],
   "source": [
    "#1.2. Find all numbers. \n",
    "import re\n",
    "print(re.findall(r'[1-9]+\\.?[0-9]*', text))"
   ]
  },
  {
   "cell_type": "markdown",
   "id": "427a333e-9561-4d97-b862-d3427d96c73e",
   "metadata": {},
   "source": [
    "3. 提取所有的美元金额"
   ]
  },
  {
   "cell_type": "code",
   "execution_count": 55,
   "id": "8b273818-d534-4b7b-9a98-374b23a9c2e8",
   "metadata": {},
   "outputs": [
    {
     "name": "stdout",
     "output_type": "stream",
     "text": [
      "['$83.0', '$1.20']\n"
     ]
    }
   ],
   "source": [
    "#1.3. Find all dollar amounts. \n",
    "import re\n",
    "print(re.findall(r'\\$[1-9]+\\.?[0-9]*', text))"
   ]
  },
  {
   "cell_type": "markdown",
   "id": "abeca585-9460-44b8-a329-574791715dcd",
   "metadata": {},
   "source": [
    "4. 提取所有日期"
   ]
  },
  {
   "cell_type": "code",
   "execution_count": 60,
   "id": "10093168-198d-4b8b-85ae-d817f63a6d66",
   "metadata": {},
   "outputs": [
    {
     "name": "stdout",
     "output_type": "stream",
     "text": [
      "['June 25, 2022']\n"
     ]
    }
   ],
   "source": [
    "#1.4. Find all dates (June 25, 2022)\n",
    "import re\n",
    "date=re.findall(r'(?:January|February|March|April|May|June|July|August|September|October|November|December)\\s\\d{1,2},\\s{0,1}\\d{4}',text)\n",
    "print(date)"
   ]
  },
  {
   "cell_type": "markdown",
   "id": "51e28ccc-f926-4aee-9628-edb7eb611c3c",
   "metadata": {},
   "source": [
    "5. 移除所有标点"
   ]
  },
  {
   "cell_type": "code",
   "execution_count": 78,
   "id": "c4b76e52-8bd8-49d2-9d17-159c37be3aa2",
   "metadata": {},
   "outputs": [
    {
     "name": "stdout",
     "output_type": "stream",
     "text": [
      "Apple today announced financial results for its fiscal 2022 third quarter ended June 25 2022 The Company posted a June quarter revenue record of 830 billion up 2 percent year over year and quarterly earnings per diluted share of 120\n"
     ]
    }
   ],
   "source": [
    "#1.5. Removing all punctuations ( . $, etc.).\n",
    "import re\n",
    "text2 = ''.join(re.findall(r\"[a-zA-Z0-9\\s]\", text))\n",
    "print(text2)"
   ]
  },
  {
   "cell_type": "markdown",
   "id": "d3b1d7ce-8698-4207-be66-e8dea536c6f7",
   "metadata": {},
   "source": [
    "6. 移除所有数字"
   ]
  },
  {
   "cell_type": "code",
   "execution_count": 80,
   "id": "1a2c3786-0d90-4bc0-8a07-ed6bcbffceee",
   "metadata": {},
   "outputs": [
    {
     "name": "stdout",
     "output_type": "stream",
     "text": [
      "Apple today announced financial results for its fiscal  third quarter ended June   The Company posted a June quarter revenue record of  billion up  percent year over year and quarterly earnings per diluted share of \n"
     ]
    }
   ],
   "source": [
    "#1.6. Remove all numbers.\n",
    "import re\n",
    "text3 = ''.join(re.findall(r\"[a-zA-Z\\W\\s]\", text2))\n",
    "print(text3)"
   ]
  },
  {
   "cell_type": "markdown",
   "id": "eb343683-2ce6-4e51-8d7e-76c4fb2bc7a1",
   "metadata": {},
   "source": [
    "7. 计算句子ho单词数"
   ]
  },
  {
   "cell_type": "code",
   "execution_count": 83,
   "id": "e50e0f60-6173-4916-a3d6-9ac2331f7a13",
   "metadata": {},
   "outputs": [
    {
     "name": "stdout",
     "output_type": "stream",
     "text": [
      "34\n"
     ]
    }
   ],
   "source": [
    "#1.7. Count the number of words in the string after finish 1.5 and 1.6\n",
    "import re\n",
    "print(len(re.findall(r'\\b\\w+\\b',text3)))"
   ]
  }
 ],
 "metadata": {
  "kernelspec": {
   "display_name": "Python 3 (ipykernel)",
   "language": "python",
   "name": "python3"
  },
  "language_info": {
   "codemirror_mode": {
    "name": "ipython",
    "version": 3
   },
   "file_extension": ".py",
   "mimetype": "text/x-python",
   "name": "python",
   "nbconvert_exporter": "python",
   "pygments_lexer": "ipython3",
   "version": "3.12.2"
  }
 },
 "nbformat": 4,
 "nbformat_minor": 5
}
